{
 "cells": [
  {
   "cell_type": "code",
   "execution_count": 28,
   "id": "0a721042",
   "metadata": {},
   "outputs": [],
   "source": [
    "import glob, os\n",
    "import pandas as pd\n",
    "import re"
   ]
  },
  {
   "cell_type": "code",
   "execution_count": 43,
   "id": "26341d90",
   "metadata": {},
   "outputs": [],
   "source": [
    "os.chdir(\".\")\n",
    "files = []\n",
    "re_sender = r'(?<=--- )\\w+'\n",
    "re_paket_num = r'(?<=-> )\\d+'\n",
    "re_packet_sended = r'(?<=: ).*?(?=, )'\n",
    "re_packet = r'(?<=, )\\w+(?=,)'\n",
    "re_packet_received = r'(?<=, )\\d.*(?= ---)'\n",
    "\n",
    "dfs = {}\n",
    "\n",
    "for file in glob.glob(\"*.txt\"):\n",
    "    if 'FPPRKBVWVGFV' in file: # this file is broken\n",
    "        continue\n",
    "    files.append(file)\n",
    "    \n",
    "for each in files:\n",
    "    df = pd.DataFrame(columns=['sender', 'paket_number', 'packet_sended', 'paket', 'paket_received'])\n",
    "    \n",
    "    f = open(each, \"r\")\n",
    "    lines = f.readlines()\n",
    "    for line in lines:\n",
    "        sender = re.findall(re_sender, line)\n",
    "        paket_num = re.findall(re_paket_num, line)\n",
    "        packet_sended = re.findall(re_packet_sended, line)\n",
    "        packet = re.findall(re_packet, line)\n",
    "        packet_received = re.findall(re_packet_received, line)\n",
    "        \n",
    "        row = {'sender':sender, 'paket_number':paket_num, 'packet_sended':packet_sended,\\\n",
    "                'paket':packet, 'paket_received': packet_received}\n",
    "        df = df.append(row, ignore_index = True)\n",
    "    \n",
    "    dfs[each] = df\n",
    "    f.close()\n",
    "        "
   ]
  },
  {
   "cell_type": "code",
   "execution_count": 40,
   "id": "807b7404",
   "metadata": {},
   "outputs": [
    {
     "data": {
      "text/plain": [
       "dict_keys(['GHWCSGFNQXIT.txt', 'QDHPPFFSCKQQ.txt', 'UGZPAOQJSYSY.txt'])"
      ]
     },
     "execution_count": 40,
     "metadata": {},
     "output_type": "execute_result"
    }
   ],
   "source": [
    "dfs.keys()"
   ]
  },
  {
   "cell_type": "code",
   "execution_count": 44,
   "id": "3d95e46c",
   "metadata": {},
   "outputs": [
    {
     "data": {
      "text/html": [
       "<div>\n",
       "<style scoped>\n",
       "    .dataframe tbody tr th:only-of-type {\n",
       "        vertical-align: middle;\n",
       "    }\n",
       "\n",
       "    .dataframe tbody tr th {\n",
       "        vertical-align: top;\n",
       "    }\n",
       "\n",
       "    .dataframe thead th {\n",
       "        text-align: right;\n",
       "    }\n",
       "</style>\n",
       "<table border=\"1\" class=\"dataframe\">\n",
       "  <thead>\n",
       "    <tr style=\"text-align: right;\">\n",
       "      <th></th>\n",
       "      <th>sender</th>\n",
       "      <th>paket_number</th>\n",
       "      <th>packet_sended</th>\n",
       "      <th>paket</th>\n",
       "      <th>paket_received</th>\n",
       "    </tr>\n",
       "  </thead>\n",
       "  <tbody>\n",
       "    <tr>\n",
       "      <th>0</th>\n",
       "      <td>[UGZPAOQJSYSY]</td>\n",
       "      <td>[1]</td>\n",
       "      <td>[2022-07-13 15:29:00.034980]</td>\n",
       "      <td>[UGOQLHRJULJDYZGGGKJNGWSKXMVNSKCWXCEDAFPZWQDQS...</td>\n",
       "      <td>[2022-07-13 15:29:00.073979]</td>\n",
       "    </tr>\n",
       "    <tr>\n",
       "      <th>1</th>\n",
       "      <td>[QDHPPFFSCKQQ]</td>\n",
       "      <td>[1]</td>\n",
       "      <td>[2022-07-13 15:29:00.034980]</td>\n",
       "      <td>[ZGZSHKBDFLXMIBTNBCSITFNWBIALCRNATLKCZUSFHNXKT...</td>\n",
       "      <td>[2022-07-13 15:29:00.097978]</td>\n",
       "    </tr>\n",
       "    <tr>\n",
       "      <th>2</th>\n",
       "      <td>[HAUVJTIWTAXWJQEJTEEWLIFHDCACGHOXPDFZRWTRTUAGO...</td>\n",
       "      <td>[]</td>\n",
       "      <td>[]</td>\n",
       "      <td>[]</td>\n",
       "      <td>[2022-07-13 15:29:00.098976]</td>\n",
       "    </tr>\n",
       "    <tr>\n",
       "      <th>3</th>\n",
       "      <td>[EEVGYDMGPZTHITYWHQFDYUVJDZHIJJVDRTFEBGSGZWEQE...</td>\n",
       "      <td>[]</td>\n",
       "      <td>[]</td>\n",
       "      <td>[]</td>\n",
       "      <td>[2022-07-13 15:29:00.099976]</td>\n",
       "    </tr>\n",
       "    <tr>\n",
       "      <th>4</th>\n",
       "      <td>[PQQVAIEWLISGOSNMBBMMPBAIWQJEICLPUAUZXHTICSILV...</td>\n",
       "      <td>[]</td>\n",
       "      <td>[]</td>\n",
       "      <td>[]</td>\n",
       "      <td>[2022-07-13 15:29:00.099976]</td>\n",
       "    </tr>\n",
       "  </tbody>\n",
       "</table>\n",
       "</div>"
      ],
      "text/plain": [
       "                                              sender paket_number  \\\n",
       "0                                     [UGZPAOQJSYSY]          [1]   \n",
       "1                                     [QDHPPFFSCKQQ]          [1]   \n",
       "2  [HAUVJTIWTAXWJQEJTEEWLIFHDCACGHOXPDFZRWTRTUAGO...           []   \n",
       "3  [EEVGYDMGPZTHITYWHQFDYUVJDZHIJJVDRTFEBGSGZWEQE...           []   \n",
       "4  [PQQVAIEWLISGOSNMBBMMPBAIWQJEICLPUAUZXHTICSILV...           []   \n",
       "\n",
       "                  packet_sended  \\\n",
       "0  [2022-07-13 15:29:00.034980]   \n",
       "1  [2022-07-13 15:29:00.034980]   \n",
       "2                            []   \n",
       "3                            []   \n",
       "4                            []   \n",
       "\n",
       "                                               paket  \\\n",
       "0  [UGOQLHRJULJDYZGGGKJNGWSKXMVNSKCWXCEDAFPZWQDQS...   \n",
       "1  [ZGZSHKBDFLXMIBTNBCSITFNWBIALCRNATLKCZUSFHNXKT...   \n",
       "2                                                 []   \n",
       "3                                                 []   \n",
       "4                                                 []   \n",
       "\n",
       "                 paket_received  \n",
       "0  [2022-07-13 15:29:00.073979]  \n",
       "1  [2022-07-13 15:29:00.097978]  \n",
       "2  [2022-07-13 15:29:00.098976]  \n",
       "3  [2022-07-13 15:29:00.099976]  \n",
       "4  [2022-07-13 15:29:00.099976]  "
      ]
     },
     "execution_count": 44,
     "metadata": {},
     "output_type": "execute_result"
    }
   ],
   "source": [
    "dfs['GHWCSGFNQXIT.txt'].head(5)"
   ]
  },
  {
   "cell_type": "code",
   "execution_count": null,
   "id": "622d7f48",
   "metadata": {},
   "outputs": [],
   "source": []
  },
  {
   "cell_type": "code",
   "execution_count": null,
   "id": "7248a193",
   "metadata": {},
   "outputs": [],
   "source": []
  },
  {
   "cell_type": "code",
   "execution_count": null,
   "id": "8419a459",
   "metadata": {},
   "outputs": [],
   "source": []
  },
  {
   "cell_type": "code",
   "execution_count": null,
   "id": "47e1dea0",
   "metadata": {},
   "outputs": [],
   "source": []
  }
 ],
 "metadata": {
  "kernelspec": {
   "display_name": "Python 3 (ipykernel)",
   "language": "python",
   "name": "python3"
  },
  "language_info": {
   "codemirror_mode": {
    "name": "ipython",
    "version": 3
   },
   "file_extension": ".py",
   "mimetype": "text/x-python",
   "name": "python",
   "nbconvert_exporter": "python",
   "pygments_lexer": "ipython3",
   "version": "3.9.7"
  }
 },
 "nbformat": 4,
 "nbformat_minor": 5
}
